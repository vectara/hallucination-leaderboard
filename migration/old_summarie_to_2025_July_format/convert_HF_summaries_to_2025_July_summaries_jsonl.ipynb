{
 "cells": [
  {
   "cell_type": "markdown",
   "metadata": {},
   "source": [
    "Convert summaries previously generated from HuggingFace Dataset repo https://huggingface.co/datasets/vectara/leaderboard_results to new output format of the LB.\n"
   ]
  },
  {
   "cell_type": "code",
   "execution_count": 1,
   "metadata": {},
   "outputs": [
    {
     "name": "stderr",
     "output_type": "stream",
     "text": [
      "/home/forrest/.local/lib/python3.10/site-packages/tqdm/auto.py:21: TqdmWarning: IProgress not found. Please update jupyter and ipywidgets. See https://ipywidgets.readthedocs.io/en/stable/user_install.html\n",
      "  from .autonotebook import tqdm as notebook_tqdm\n"
     ]
    }
   ],
   "source": [
    "import pandas as pd\n",
    "import re\n",
    "import hashlib\n",
    "from datetime import datetime\n",
    "import json, os\n",
    "\n",
    "from collections import Counter\n",
    "from tqdm.auto import tqdm\n",
    "from datasets import load_dataset, Dataset"
   ]
  },
  {
   "cell_type": "code",
   "execution_count": 2,
   "metadata": {},
   "outputs": [],
   "source": [
    "from datasets import load_dataset, Dataset\n",
    "ds = load_dataset(\"vectara/leaderboard_results\", split=\"train\")\n",
    "# failed_models = []\n",
    "# for row in ds:\n",
    "#       if row['summary'] == None: \n",
    "#           failed_models.append(row['model'])\n",
    "\n",
    "# display( sorted(Counter(failed_models).items(), key=lambda x: x[0])) \n",
    "\n",
    "# print (\"Total number of Null summaries: \", sum(Counter(failed_models).values()))"
   ]
  },
  {
   "cell_type": "code",
   "execution_count": 19,
   "metadata": {},
   "outputs": [
    {
     "name": "stdout",
     "output_type": "stream",
     "text": [
      "{'mistralai', 'google', 'Qwen', 'internlm', 'CohereForAI', 'databricks', 'allenai', 'Anthropic', 'qwen', 'THUDM', 'snowflake', 'amazon', 'tiiuae', 'Intel', 'xai', 'microsoft', 'apple', 'cohere', 'deepseek', 'anthropic', 'openai'}\n"
     ]
    }
   ],
   "source": [
    "unique_models = set(ds['model'])\n",
    "\n",
    "# extract the company names from the regex pattern {company}/{model_name}\n",
    "companies = []\n",
    "for _id in unique_models: \n",
    "  m = re.match(r'([a-zA-Z]+)/([a-zA-Z0-9_-]+)', _id)\n",
    "  if m :\n",
    "    companies.append(m.group(1))\n",
    "  \n",
    "print (set(companies))"
   ]
  },
  {
   "cell_type": "code",
   "execution_count": 20,
   "metadata": {},
   "outputs": [
    {
     "data": {
      "text/plain": [
       "['google/Gemini-1.5-Pro',\n",
       " 'google/PaLM-2-Chat',\n",
       " 'google/gemini-2.0-flash-lite-preview-02-05',\n",
       " 'google/gemma-3-4b-it',\n",
       " 'google/flan-t5-large',\n",
       " 'google/gemini-flash-experimental',\n",
       " 'google/gemini-2.5-flash-preview-04-17',\n",
       " 'google/gemma-1.1-2b-it',\n",
       " 'google/gemini-2.0-flash-001',\n",
       " 'google/gemma-3-27b-it',\n",
       " 'google/gemini-2.0-pro-exp-02-05',\n",
       " 'google/Gemini-1.5-flash',\n",
       " 'google/gemma-2-2b-it',\n",
       " 'google/Gemini-Pro',\n",
       " 'google/gemini-1.5-flash-002',\n",
       " 'google/gemma-3-1b-it',\n",
       " 'google/gemma-1.1-7b-it',\n",
       " 'google/gemini-2.0-flash-thinking-exp',\n",
       " 'google/gemini-pro-experimental',\n",
       " 'google/gemini-1.5-flash-001',\n",
       " 'google/gemma-2-9b-it',\n",
       " 'google/gemma-7b-it',\n",
       " 'google/gemini-1.5-pro-001',\n",
       " 'google/gemini-2.5-pro-exp-03-25',\n",
       " 'google/PaLM-2',\n",
       " 'google/gemini-1.5-pro-002']"
      ]
     },
     "execution_count": 20,
     "metadata": {},
     "output_type": "execute_result"
    }
   ],
   "source": [
    "[x for x in set(ds['model']) if \"google\" in x.lower()]"
   ]
  },
  {
   "cell_type": "code",
   "execution_count": 8,
   "metadata": {},
   "outputs": [],
   "source": [
    "# Load current summaries data CSV\n",
    "source_articles_df = pd.read_csv(\"../../datasets/leaderboard_dataset_revised.csv\")\n",
    "source_to_id = dict(zip(source_articles_df[\"text\"], source_articles_df[\"article_id\"]))"
   ]
  },
  {
   "cell_type": "code",
   "execution_count": null,
   "metadata": {},
   "outputs": [
    {
     "name": "stdout",
     "output_type": "stream",
     "text": [
      "{'mistralai', 'google', 'Qwen', 'internlm', 'CohereForAI', 'databricks', 'allenai', 'Anthropic', 'qwen', 'THUDM', 'snowflake', 'amazon', 'tiiuae', 'Intel', 'xai', 'microsoft', 'apple', 'cohere', 'deepseek', 'anthropic', 'openai'}\n"
     ]
    }
   ],
   "source": []
  },
  {
   "cell_type": "code",
   "execution_count": 11,
   "metadata": {},
   "outputs": [
    {
     "data": {
      "text/plain": [
       "[]"
      ]
     },
     "execution_count": 11,
     "metadata": {},
     "output_type": "execute_result"
    }
   ],
   "source": [
    "[m for m in unique_models if \"\"]"
   ]
  },
  {
   "cell_type": "code",
   "execution_count": null,
   "metadata": {},
   "outputs": [],
   "source": [
    "\"\"\"\n",
    "The new data model for summaries is:\n",
    "\n",
    "class BasicSummary(BaseModel):\n",
    "    article_id: int\n",
    "    summary_uid: str\n",
    "    summary: str\n",
    "\n",
    "    company: str\n",
    "    model_name: str\n",
    "    date_code: str | None = None\n",
    "\n",
    "    eval_name: str\n",
    "    summary_date: str\n",
    "\n",
    "    temperature: float | None = None\n",
    "    max_tokens: int | None = None\n",
    "    # prompt: str | None = None # We chose not to include prompt in the summary class because it is too long and normally not change. \n",
    "    thinking_tokens: int | None = None\n",
    "    execution_mode: Literal[\"cpu\", \"gpu\", \"api\"] | None = None\n",
    "\"\"\""
   ]
  },
  {
   "cell_type": "code",
   "execution_count": 12,
   "metadata": {},
   "outputs": [
    {
     "name": "stdout",
     "output_type": "stream",
     "text": [
      "('command-r', '08-2024')\n",
      "('claude-3-5-sonnet', '20240620')\n",
      "grok-3-mini-latest ==> ('grok-3-mini-latest', None)\n",
      "grok-beta ==> ('grok-beta', None)\n",
      "grok-2-vision-1212 ==> ('grok-2-vision-1212', None)\n",
      "grok-2-1212 ==> ('grok-2-1212', None)\n",
      "grok-3-latest ==> ('grok-3-latest', None)\n"
     ]
    }
   ],
   "source": [
    "def get_date_code(company_name, model_name):\n",
    "\n",
    "  if company_name == \"cohere\":\n",
    "    if model_name in [\"Cohere\", \"Cohere-Chat\"]:\n",
    "      return model_name, None\n",
    "    m = re.match(r'^(.*?)(?:-(\\d{2}-\\d{4}))?$', model_name)\n",
    "    if m:\n",
    "      return m.groups()\n",
    "  elif company_name == \"anthropic\":\n",
    "    m = re.match(r'(.*)-(202\\d{5})$', model_name)\n",
    "    if m:\n",
    "      return m.groups()\n",
    "    else:\n",
    "      return model_name, None\n",
    "  elif company_name == \"openai\":\n",
    "    m = re.match(r'^(.*?)-(202\\d-\\d{2}-\\d{2}|latest|\\d{2}-\\d{2})$', model_name)\n",
    "    if m:\n",
    "      return m.groups()\n",
    "    else:\n",
    "      return model_name, None\n",
    "  elif company_name == \"google\":\n",
    "    m = re.match(r'^(.*?)-(\\d{2}-\\d{2})$', model_name)\n",
    "    if m:\n",
    "      return m.groups()\n",
    "    else:\n",
    "      return model_name, None\n",
    "  else: # no code name in model name\n",
    "    return model_name, None\n",
    "\n",
    "print (get_date_code(\"cohere\", \"command-r-08-2024\"))\n",
    "print (get_date_code(\"anthropic\", \"claude-3-5-sonnet-20240620\"))\n",
    "\n",
    "for model in unique_models:\n",
    "  if \"grok\" not in model:\n",
    "    continue\n",
    "  try: \n",
    "    [company_name, model_name] = model.split(\"/\")\n",
    "    print (model_name, \"==>\", get_date_code(company_name, model_name))\n",
    "  except Exception as e:\n",
    "    if \"gemini\" in model:\n",
    "      company_name = \"google\"\n",
    "      model_name = model\n",
    "      print (model_name, \"==>\", get_date_code(company_name, model_name))\n",
    "    else:\n",
    "      print (model, \"==>\", \"ERROR\") \n",
    "      break\n"
   ]
  },
  {
   "cell_type": "code",
   "execution_count": 146,
   "metadata": {},
   "outputs": [
    {
     "name": "stderr",
     "output_type": "stream",
     "text": [
      "100%|██████████| 161222/161222 [00:07<00:00, 20792.86it/s]\n"
     ]
    },
    {
     "data": {
      "text/plain": [
       "{'Phi-2': 59,\n",
       " 'Titan-Express': 59,\n",
       " 'Gemini-Pro': 59,\n",
       " 'Mixtral-8x7B-Instruct-v0.1': 59,\n",
       " 'Claude-2': 41,\n",
       " 'Cohere': 41,\n",
       " 'Cohere-Chat': 41,\n",
       " 'GPT-4': 41,\n",
       " 'GPT-3.5-Turbo': 41,\n",
       " 'Llama-2-13b-chat-hf': 41,\n",
       " 'Llama-2-70b-chat-hf': 41,\n",
       " 'Llama-2-7b-chat-hf': 41,\n",
       " 'PaLM-2': 41,\n",
       " 'PaLM-2-Chat': 41,\n",
       " 'Mixtral-8x22B-Instruct-v0.1': 59,\n",
       " 'c4ai-command-r-plus': 59,\n",
       " 'dbrx-instruct': 59,\n",
       " 'gemma-1.1-2b-it': 59,\n",
       " 'gemma-1.1-7b-it': 59,\n",
       " 'Llama-3-8B-chat-hf': 59,\n",
       " 'Llama-3-70B-chat-hf': 59,\n",
       " 'WizardLM-2-8x22B': 59,\n",
       " 'GPT-4-Turbo': 59,\n",
       " 'Gemini-1.5-Pro': 59,\n",
       " 'snowflake-arctic-instruct': 59,\n",
       " 'OpenELM-3B-Instruct': 59,\n",
       " 'gpt-4o': 59,\n",
       " 'Gemini-1.5-flash': 59,\n",
       " 'claude-3-5-sonnet-20240620': 59,\n",
       " 'gemma-2-9b-it': 59,\n",
       " 'GPT-4o-mini': 59,\n",
       " 'Phi-3-mini-4k-instruct': 59,\n",
       " 'Phi-3-mini-128k-instruct': 59,\n",
       " 'Orca-2-13b': 59,\n",
       " 'gemma-7b-it': 59,\n",
       " 'Claude-3-sonnet': 59,\n",
       " 'falcon-7b-instruct': 59,\n",
       " 'Claude-3-opus': 59,\n",
       " 'flan-t5-large': 59,\n",
       " 'Meta-Llama-3.1-405B-Instruct': 59,\n",
       " 'Meta-Llama-3.1-8B-Instruct': 59,\n",
       " 'Meta-Llama-3.1-70B-Instruct': 59,\n",
       " 'Yi-1.5-34B-Chat': 59,\n",
       " 'Yi-1.5-9B-Chat': 59,\n",
       " 'Yi-1.5-6B-Chat': 59,\n",
       " 'Qwen2-72B-Instruct': 59,\n",
       " 'glm-4-9b-chat': 59,\n",
       " 'Mistral-Large2': 59,\n",
       " 'neural-chat-7b-v3-3': 59,\n",
       " 'Mistral-7B-Instruct-v0.3': 118,\n",
       " 'gemma-2-2b-it': 59,\n",
       " 'Phi-3.5-mini-instruct': 59,\n",
       " 'Phi-3.5-MoE-instruct': 59,\n",
       " 'AI21-Jamba-1.5-Mini': 59,\n",
       " 'Mistral-Nemo-Instruct-2407': 59,\n",
       " 'command-r': 59,\n",
       " 'command-r-plus': 59,\n",
       " 'Qwen2-VL-2B-Instruct': 59,\n",
       " 'Qwen2-VL-7B-Instruct': 59,\n",
       " 'deepseek-chat': 59,\n",
       " 'o1-preview': 59,\n",
       " 'o1-mini': 59,\n",
       " 'gemini-1.5-pro-001': 59,\n",
       " 'gemini-pro-experimental': 59,\n",
       " 'gemini-1.5-flash-001': 59,\n",
       " 'gemini-flash-experimental': 177,\n",
       " 'Qwen2.5-0.5B-Instruct': 59,\n",
       " 'Qwen2.5-1.5B-Instruct': 59,\n",
       " 'Qwen2.5-3B-Instruct': 59,\n",
       " 'Qwen2.5-7B-Instruct': 118,\n",
       " 'Qwen2.5-14B-Instruct': 59,\n",
       " 'Qwen2.5-32B-Instruct': 59,\n",
       " 'Qwen2.5-72B-Instruct': 59,\n",
       " 'Llama-3.2-11B-Vision-Instruct-Turbo': 118,\n",
       " 'Llama-3.2-90B-Vision-Instruct-Turbo': 118,\n",
       " 'Llama-3.2-1B-Instruct': 59,\n",
       " 'Llama-3.2-3B-Instruct-Turbo': 59,\n",
       " 'gemini-1.5-flash-002': 59,\n",
       " 'gemini-1.5-pro-002': 59,\n",
       " 'claude-3-5-sonnet': 59,\n",
       " 'granite-3.0-2b-instruct': 59,\n",
       " 'granite-3.0-8b-instruct': 59,\n",
       " 'grok-beta': 59,\n",
       " 'c4ai-aya-expanse-8b': 59,\n",
       " 'c4ai-aya-expanse-32b': 59,\n",
       " 'claude-3-5-haiku': 59,\n",
       " 'OLMo-2-1124-7B-Instruct': 59,\n",
       " 'OLMo-2-1124-13B-Instruct': 59,\n",
       " 'QwQ-32B-Preview': 59,\n",
       " 'Llama-3.3-70B-Instruct': 59,\n",
       " 'gemini-2.0-flash-exp': 59,\n",
       " 'phi-4': 59,\n",
       " 'o1': 59,\n",
       " 'deepseek-v3': 59,\n",
       " 'deepseek-r1': 59,\n",
       " 'granite-3.1-8b-instruct': 59,\n",
       " 'granite-3.1-2b-instruct': 59,\n",
       " 'gemini-2.0-flash-thinking-exp': 59,\n",
       " 'ministral-3b-latest': 118,\n",
       " 'pixtral-large-latest': 118,\n",
       " 'mistral-small-latest': 118,\n",
       " 'ministral-8b-latest': 118,\n",
       " 'mistral-large-latest': 59,\n",
       " 'Mistral-Small-24B-Instruct-2501': 118,\n",
       " 'nova-lite-v1': 59,\n",
       " 'nova-micro-v1': 59,\n",
       " 'nova-pro-v1': 59,\n",
       " 'gemini-2.0-pro-exp': 59,\n",
       " 'gemini-2.0-flash-001': 59,\n",
       " 'gemini-2.0-flash-lite-preview': 59,\n",
       " 'qwen-max': 59,\n",
       " 'grok-2-1212': 59,\n",
       " 'grok-2-vision-1212': 59,\n",
       " 'internlm3-8b-instruct': 59,\n",
       " 'claude-3-7-sonnet-latest': 59,\n",
       " 'claude-3-7-sonnet-latest-think': 59,\n",
       " 'Phi-4-mini-instruct': 118,\n",
       " 'gpt-4.5-preview': 59,\n",
       " 'granite-3.2-2b-instruct': 59,\n",
       " 'granite-3.2-8b-instruct': 59,\n",
       " 'gemma-3-1b-it': 59,\n",
       " 'gemma-3-4b-it': 59,\n",
       " 'gemma-3-27b-it': 59,\n",
       " 'command-a': 59,\n",
       " 'jamba-1.6-mini': 59,\n",
       " 'mistral-small-3.1-24b-instruct': 59,\n",
       " 'jamba-1.6-large': 59,\n",
       " 'olmo-2-0325-32b-instruct': 59,\n",
       " 'o1-pro': 59,\n",
       " 'deepseek-v3-0324': 59,\n",
       " 'gemini-2.5-pro-exp': 59,\n",
       " 'chatgpt-4o': 59,\n",
       " 'llama-4-scout': 59,\n",
       " 'llama-4-maverick': 59,\n",
       " 'grok-3-latest': 59,\n",
       " 'grok-3-mini-latest': 59,\n",
       " 'gpt-4.1-nano': 59,\n",
       " 'gpt-4.1': 59,\n",
       " 'gpt-4.1-mini': 59,\n",
       " 'o3': 59,\n",
       " 'o4-mini': 59,\n",
       " 'gemini-2.5-flash-preview': 59,\n",
       " 'Qwen3-0.6B': 59,\n",
       " 'Qwen3-1.7B': 59,\n",
       " 'qwen3-30b-a3b': 59,\n",
       " 'Qwen3-8B': 59,\n",
       " 'Qwen3-4B': 59,\n",
       " 'qwen3-235b-a22b': 59,\n",
       " 'Qwen3-14B': 59,\n",
       " 'Qwen3-32B': 59}"
      ]
     },
     "metadata": {},
     "output_type": "display_data"
    }
   ],
   "source": [
    "def convert_HF_summaries_to_respective_jsonl(ds: Dataset, source_to_id: dict):\n",
    "    # map every row into a BasicSummary\n",
    "\n",
    "  count = 0\n",
    "  no_source_count_by_model = {}\n",
    "\n",
    "  for row in tqdm(ds):\n",
    "    summary = row['summary']\n",
    "    source = row['source']\n",
    "    company_model = row['model']\n",
    "\n",
    "    if company_model in \"gemini-2.0-flash-exp\":\n",
    "      company_model = f\"google/{company_model}\"\n",
    "\n",
    "    try: \n",
    "      [company, model_name] = company_model.split('/')\n",
    "    except: \n",
    "      print (f\"Error splitting company and model name for model: {company_model}\")\n",
    "      continue\n",
    "    \n",
    "    current_time = datetime.now().strftime(\"%Y-%m-%d\")\n",
    "    combined_string = (\n",
    "        f\"{model_name}|{summary if summary else 'None'}|{current_time}\"\n",
    "    )\n",
    "    summary_uid = hashlib.md5(combined_string.encode('utf-8')).hexdigest()\n",
    "\n",
    "    try:\n",
    "      model_name, date_code = get_date_code(company, model_name)\n",
    "    except: \n",
    "      print (f\"Error getting date code for model: {model_name}\")\n",
    "      continue\n",
    "\n",
    "    try: \n",
    "      article_id = source_to_id[source]\n",
    "    except: \n",
    "      no_source_count_by_model[model_name] = no_source_count_by_model.setdefault(model_name, 0) + 1\n",
    "      # print (f\"Article ID not found for source.\")\n",
    "      continue\n",
    "\n",
    "    if summary: # summary can be none \n",
    "      summary = summary.strip()\n",
    "\n",
    "    summ_dict = {\n",
    "        \"article_id\": article_id, \n",
    "        \"summary_uid\": summary_uid,\n",
    "        \"summary\": summary,\n",
    "        \"company\": company,\n",
    "        \"model_name\": model_name,\n",
    "        \"date_code\": date_code,\n",
    "        \"eval_name\": \"pre_2025-07\",\n",
    "        \"summary_date\": \"pre_2025-07\",\n",
    "        # \"temperature\": 0,\n",
    "        # \"max_tokens\": 1024,\n",
    "        # \"thinking_tokens\": None,\n",
    "        # \"execution_mode\": None\n",
    "    }\n",
    "\n",
    "    # append the summary_dict to the corresponding JSONL file\n",
    "    output_dir = f\"./output/{company}/{model_name}\"\n",
    "    if not os.path.exists(output_dir):\n",
    "      os.makedirs(output_dir)\n",
    "    summaries_jsonl_file = f\"{output_dir}/summaries.jsonl\"\n",
    "    with open(summaries_jsonl_file, \"a\") as f:\n",
    "      f.write(json.dumps(summ_dict, ensure_ascii=False) + \"\\n\")\n",
    "\n",
    "    # count += 1\n",
    "    # if count > 20000:\n",
    "    #   break\n",
    "\n",
    "  display (no_source_count_by_model)\n",
    "\n",
    "convert_HF_summaries_to_respective_jsonl(ds, source_to_id)"
   ]
  },
  {
   "cell_type": "code",
   "execution_count": null,
   "metadata": {},
   "outputs": [],
   "source": []
  }
 ],
 "metadata": {
  "kernelspec": {
   "display_name": "Python 3",
   "language": "python",
   "name": "python3"
  },
  "language_info": {
   "codemirror_mode": {
    "name": "ipython",
    "version": 3
   },
   "file_extension": ".py",
   "mimetype": "text/x-python",
   "name": "python",
   "nbconvert_exporter": "python",
   "pygments_lexer": "ipython3",
   "version": "3.10.12"
  }
 },
 "nbformat": 4,
 "nbformat_minor": 2
}
